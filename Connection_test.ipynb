{
 "cells": [
  {
   "cell_type": "code",
   "execution_count": 19,
   "id": "ad51729e-285e-47c8-959d-7851f72a565c",
   "metadata": {},
   "outputs": [
    {
     "name": "stdout",
     "output_type": "stream",
     "text": [
      "Connexion réussie !\n"
     ]
    }
   ],
   "source": [
    "import pymysql\n",
    "\n",
    "try:\n",
    "    connection = pymysql.connect(\n",
    "        host=\"localhost\",\n",
    "        user=\"root\",\n",
    "        password=\"root\",\n",
    "    )\n",
    "    print(\"Connexion réussie !\")\n",
    "except Exception as e:\n",
    "    print(f\"Erreur de connexion : {e}\")\n"
   ]
  },
  {
   "cell_type": "code",
   "execution_count": 14,
   "id": "17cac6df",
   "metadata": {},
   "outputs": [
    {
     "name": "stdout",
     "output_type": "stream",
     "text": [
      "Bases de données disponibles sur le serveur MySQL :\n",
      "- bdd_clustering\n",
      "- boutique\n",
      "- data_centric\n",
      "- dental_pharma\n",
      "- information_schema\n",
      "- marathon_db\n",
      "- mysql\n",
      "- performance_schema\n",
      "- premierleague_db\n",
      "- sakila\n",
      "- scopa\n",
      "- scopa_db\n",
      "- scraping\n",
      "- sys\n",
      "- villes_france_db\n",
      "- world\n",
      "yes\n"
     ]
    }
   ],
   "source": [
    "import pymysql\n",
    "\n",
    "try:\n",
    "    connection = pymysql.connect(\n",
    "        host=\"127.0.0.1\",\n",
    "        user=\"root\",\n",
    "        password=\"root\", \n",
    "        database = 'premierleague_db'  # Remplacez par votre mot de passe\n",
    "    )\n",
    "    with connection.cursor() as cursor:\n",
    "        cursor.execute(\"SHOW DATABASES;\")\n",
    "        databases = cursor.fetchall()\n",
    "\n",
    "        print(\"Bases de données disponibles sur le serveur MySQL :\")\n",
    "        for db in databases:\n",
    "            print(f\"- {db[0]}\")\n",
    "except Exception as e:\n",
    "    print(f\"Erreur de connexion : {e}\")\n",
    "finally:\n",
    "    if connection:\n",
    "        print('yes')"
   ]
  },
  {
   "cell_type": "code",
   "execution_count": 17,
   "id": "ba7e8ab9-891b-4b0b-a9a8-a238b85bec26",
   "metadata": {},
   "outputs": [
    {
     "name": "stdout",
     "output_type": "stream",
     "text": [
      "Connection successful!\n"
     ]
    }
   ],
   "source": [
    "import mysql.connector\n",
    "\n",
    "db_config = {\n",
    "    \"host\": \"localhost\",\n",
    "    \"user\": \"root\",\n",
    "    \"password\": \"root\",\n",
    "    \"database\": \"premierleague_db\"\n",
    "}\n",
    "\n",
    "try:\n",
    "    connection = mysql.connector.connect(**db_config)\n",
    "    print(\"Connection successful!\")\n",
    "except mysql.connector.Error as err:\n",
    "    print(f\"Connection error: {err}\")\n"
   ]
  },
  {
   "cell_type": "code",
   "execution_count": 21,
   "id": "ad915c80-303f-420c-9faa-d892a2b0df6e",
   "metadata": {},
   "outputs": [
    {
     "name": "stdout",
     "output_type": "stream",
     "text": [
      "Connection successful!\n",
      "{'Position': 'C', 'Club': 'Manchester City', 'Total_Played': 38, 'Total_Wins': 28, 'Total_Draws': 7, 'Total_Losses': 3, 'Goals_For': 96, 'Goals_Against': 34, 'Points': 91}\n",
      "{'Position': '2', 'Club': 'Arsenal', 'Total_Played': 38, 'Total_Wins': 28, 'Total_Draws': 5, 'Total_Losses': 5, 'Goals_For': 91, 'Goals_Against': 29, 'Points': 89}\n",
      "{'Position': '3', 'Club': 'Liverpool', 'Total_Played': 38, 'Total_Wins': 24, 'Total_Draws': 10, 'Total_Losses': 4, 'Goals_For': 86, 'Goals_Against': 41, 'Points': 82}\n",
      "{'Position': '4', 'Club': 'Aston Villa', 'Total_Played': 38, 'Total_Wins': 20, 'Total_Draws': 8, 'Total_Losses': 10, 'Goals_For': 76, 'Goals_Against': 61, 'Points': 68}\n",
      "{'Position': '5', 'Club': 'Tottenham Hotspur', 'Total_Played': 38, 'Total_Wins': 20, 'Total_Draws': 6, 'Total_Losses': 12, 'Goals_For': 74, 'Goals_Against': 61, 'Points': 66}\n",
      "{'Position': '6', 'Club': 'Chelsea', 'Total_Played': 38, 'Total_Wins': 18, 'Total_Draws': 9, 'Total_Losses': 11, 'Goals_For': 77, 'Goals_Against': 63, 'Points': 63}\n",
      "{'Position': '7', 'Club': 'Newcastle United', 'Total_Played': 38, 'Total_Wins': 18, 'Total_Draws': 6, 'Total_Losses': 14, 'Goals_For': 85, 'Goals_Against': 62, 'Points': 60}\n",
      "{'Position': '8', 'Club': 'Manchester United', 'Total_Played': 38, 'Total_Wins': 18, 'Total_Draws': 6, 'Total_Losses': 14, 'Goals_For': 57, 'Goals_Against': 58, 'Points': 60}\n",
      "{'Position': '9', 'Club': 'West Ham United', 'Total_Played': 38, 'Total_Wins': 14, 'Total_Draws': 10, 'Total_Losses': 14, 'Goals_For': 60, 'Goals_Against': 74, 'Points': 52}\n",
      "{'Position': '10', 'Club': 'Crystal Palace', 'Total_Played': 38, 'Total_Wins': 13, 'Total_Draws': 10, 'Total_Losses': 15, 'Goals_For': 57, 'Goals_Against': 58, 'Points': 49}\n",
      "{'Position': '11', 'Club': 'Brighton & Hove Albion', 'Total_Played': 38, 'Total_Wins': 12, 'Total_Draws': 12, 'Total_Losses': 14, 'Goals_For': 55, 'Goals_Against': 62, 'Points': 48}\n",
      "{'Position': '12', 'Club': 'AFC Bournemouth', 'Total_Played': 38, 'Total_Wins': 13, 'Total_Draws': 9, 'Total_Losses': 16, 'Goals_For': 54, 'Goals_Against': 67, 'Points': 48}\n",
      "{'Position': '13', 'Club': 'Fulham', 'Total_Played': 38, 'Total_Wins': 13, 'Total_Draws': 8, 'Total_Losses': 17, 'Goals_For': 55, 'Goals_Against': 61, 'Points': 47}\n",
      "{'Position': '14', 'Club': 'Wolverhampton Wanderers', 'Total_Played': 38, 'Total_Wins': 13, 'Total_Draws': 7, 'Total_Losses': 18, 'Goals_For': 50, 'Goals_Against': 65, 'Points': 46}\n",
      "{'Position': '15', 'Club': 'Everton (-8)', 'Total_Played': 38, 'Total_Wins': 13, 'Total_Draws': 9, 'Total_Losses': 16, 'Goals_For': 40, 'Goals_Against': 51, 'Points': 40}\n",
      "{'Position': '16', 'Club': 'Brentford', 'Total_Played': 38, 'Total_Wins': 10, 'Total_Draws': 9, 'Total_Losses': 19, 'Goals_For': 56, 'Goals_Against': 65, 'Points': 39}\n",
      "{'Position': '17', 'Club': 'Nottingham Forest (-4)', 'Total_Played': 38, 'Total_Wins': 9, 'Total_Draws': 9, 'Total_Losses': 20, 'Goals_For': 49, 'Goals_Against': 67, 'Points': 32}\n",
      "{'Position': 'R', 'Club': 'Luton Town', 'Total_Played': 38, 'Total_Wins': 6, 'Total_Draws': 8, 'Total_Losses': 24, 'Goals_For': 52, 'Goals_Against': 85, 'Points': 26}\n",
      "{'Position': 'R', 'Club': 'Burnley', 'Total_Played': 38, 'Total_Wins': 5, 'Total_Draws': 9, 'Total_Losses': 24, 'Goals_For': 41, 'Goals_Against': 78, 'Points': 24}\n",
      "{'Position': 'R', 'Club': 'Sheffield United', 'Total_Played': 38, 'Total_Wins': 3, 'Total_Draws': 7, 'Total_Losses': 28, 'Goals_For': 35, 'Goals_Against': 104, 'Points': 16}\n"
     ]
    }
   ],
   "source": [
    "import mysql.connector\n",
    "\n",
    "# Configuration de la base de données\n",
    "db_config = {\n",
    "    \"host\": \"localhost\",\n",
    "    \"user\": \"root\",\n",
    "    \"password\": \"root\",\n",
    "    \"database\": \"premierleague_db\"\n",
    "}\n",
    "\n",
    "try:\n",
    "    # Connexion à la base de données\n",
    "    connection = mysql.connector.connect(**db_config)\n",
    "    print(\"Connection successful!\")\n",
    "    \n",
    "    # Créer un curseur\n",
    "    cursor = connection.cursor(dictionary=True)  # dictionary=True pour obtenir des résultats sous forme de dictionnaire\n",
    "    \n",
    "    # Exécuter la requête\n",
    "    query = \"SELECT * FROM premierleague2023_2024\"\n",
    "    cursor.execute(query)\n",
    "    \n",
    "    # Récupérer les résultats\n",
    "    results = cursor.fetchall()\n",
    "    \n",
    "    # Afficher les résultats\n",
    "    for row in results:\n",
    "        print(row)\n",
    "    \n",
    "except mysql.connector.Error as err:\n",
    "    print(f\"Connection error: {err}\")\n",
    "\n",
    "finally:\n",
    "    # Fermer le curseur et la connexion\n",
    "    if 'cursor' in locals():\n",
    "        cursor.close()\n",
    "    if 'connection' in locals() and connection.is_connected():\n",
    "        connection.close()\n"
   ]
  }
 ],
 "metadata": {
  "kernelspec": {
   "display_name": "Python 3 (ipykernel)",
   "language": "python",
   "name": "python3"
  },
  "language_info": {
   "codemirror_mode": {
    "name": "ipython",
    "version": 3
   },
   "file_extension": ".py",
   "mimetype": "text/x-python",
   "name": "python",
   "nbconvert_exporter": "python",
   "pygments_lexer": "ipython3",
   "version": "3.11.7"
  },
  "toc": {
   "base_numbering": 1,
   "nav_menu": {},
   "number_sections": true,
   "sideBar": true,
   "skip_h1_title": false,
   "title_cell": "Table of Contents",
   "title_sidebar": "Contents",
   "toc_cell": false,
   "toc_position": {},
   "toc_section_display": true,
   "toc_window_display": false
  }
 },
 "nbformat": 4,
 "nbformat_minor": 5
}
